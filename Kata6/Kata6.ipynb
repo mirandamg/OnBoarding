{
 "cells": [
  {
   "cell_type": "markdown",
   "metadata": {},
   "source": [
    "# Modulo 6\n",
    "## Kata 6\n",
    "\n",
    "### Ejercicio1"
   ]
  },
  {
   "cell_type": "code",
   "execution_count": 57,
   "metadata": {},
   "outputs": [
    {
     "name": "stdout",
     "output_type": "stream",
     "text": [
      "8\n"
     ]
    }
   ],
   "source": [
    "planets = ['Mercury', 'Venus', 'Earth', 'Mars', 'Jupiter', 'Saturn', 'Uranus', 'Neptune']\n",
    "print(len(planets))"
   ]
  },
  {
   "cell_type": "code",
   "execution_count": 58,
   "metadata": {},
   "outputs": [
    {
     "name": "stdout",
     "output_type": "stream",
     "text": [
      "Hay  9 planetas. El ultimo elemento es  Pluton\n"
     ]
    }
   ],
   "source": [
    "planets.append('Pluton')\n",
    "print(\"Hay \", len(planets), \"planetas. \" \"El ultimo elemento es \",planets[-1])"
   ]
  },
  {
   "cell_type": "markdown",
   "metadata": {},
   "source": [
    "### Ejercicio 2"
   ]
  },
  {
   "cell_type": "code",
   "execution_count": 59,
   "metadata": {},
   "outputs": [],
   "source": [
    "planets = ['Mercury', 'Venus', 'Earth', 'Mars', 'Jupiter', 'Saturn', 'Neptune']"
   ]
  },
  {
   "cell_type": "code",
   "execution_count": 60,
   "metadata": {},
   "outputs": [
    {
     "name": "stdout",
     "output_type": "stream",
     "text": [
      "Planetas mas cercanos al sol que  Venus \n",
      "La lista es:  ['Mercury']\n",
      "Planetas mas lejanos al sol que  Venus \n",
      "La lista es:  ['Earth', 'Mars', 'Jupiter', 'Saturn']\n"
     ]
    }
   ],
   "source": [
    "nuevo_planeta= input('Ingresa nombre de planeta: ')\n",
    "planets_index = planets.index(nuevo_planeta)\n",
    "print(\"Planetas mas cercanos al sol que \", nuevo_planeta, \"\\nLa lista es: \", planets[0:planets_index])\n",
    "print(\"Planetas mas lejanos al sol que \", nuevo_planeta, \"\\nLa lista es: \", planets[planets_index +1 :-1])"
   ]
  }
 ],
 "metadata": {
  "interpreter": {
   "hash": "3ad3e8a9cbcc8f0210332b17c8bfeb7bb9922686ed537b0a45f401d0bc4da0cb"
  },
  "kernelspec": {
   "display_name": "Python 3.9.6 64-bit",
   "language": "python",
   "name": "python3"
  },
  "language_info": {
   "codemirror_mode": {
    "name": "ipython",
    "version": 3
   },
   "file_extension": ".py",
   "mimetype": "text/x-python",
   "name": "python",
   "nbconvert_exporter": "python",
   "pygments_lexer": "ipython3",
   "version": "3.9.6"
  },
  "orig_nbformat": 4
 },
 "nbformat": 4,
 "nbformat_minor": 2
}
