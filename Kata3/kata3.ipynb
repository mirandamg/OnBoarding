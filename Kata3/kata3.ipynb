{
 "cells": [
  {
   "cell_type": "markdown",
   "metadata": {},
   "source": [
    "# Modulo 3\n",
    "## Kata 3"
   ]
  },
  {
   "cell_type": "markdown",
   "metadata": {},
   "source": [
    "### Ejercicio 1"
   ]
  },
  {
   "cell_type": "code",
   "execution_count": 80,
   "metadata": {},
   "outputs": [
    {
     "name": "stdout",
     "output_type": "stream",
     "text": [
      "Un asteroide se acerca a la Tierra demasiado rapido\n"
     ]
    }
   ],
   "source": [
    "vel_ast=49\n",
    "if vel_ast >= 25:\n",
    "    print (\"Un asteroide se acerca a la Tierra demasiado rapido\")\n",
    "else:\n",
    "    print(\"Todo bien espacialmente\")\n",
    "\n",
    "    # Agregue las instrucciones que se ejecutarán si la expresión de prueba es true o false."
   ]
  },
  {
   "cell_type": "markdown",
   "metadata": {},
   "source": [
    "### Ejercicio 2"
   ]
  },
  {
   "cell_type": "code",
   "execution_count": 81,
   "metadata": {},
   "outputs": [
    {
     "name": "stdout",
     "output_type": "stream",
     "text": [
      "Todo bien espacialmente\n"
     ]
    }
   ],
   "source": [
    "vel_ast2=19\n",
    "if vel_ast2 > 20:\n",
    "    print(\"Mira al cielo, hay un rayo de luz, es un asteroide\")\n",
    "elif vel_ast2 == 20:\n",
    "    print (\"Mira al cielo, hay un rayo de luz, es un asteroide\")\n",
    "else:\n",
    "    print (\"Todo bien espacialmente\")"
   ]
  },
  {
   "cell_type": "markdown",
   "metadata": {},
   "source": [
    "### Ejercicio 3"
   ]
  },
  {
   "cell_type": "code",
   "execution_count": 82,
   "metadata": {},
   "outputs": [
    {
     "name": "stdout",
     "output_type": "stream",
     "text": [
      "Mira al cielo, es un rayo de luz, es un asteroide que no causara daño\n"
     ]
    }
   ],
   "source": [
    "#un asteroide más grande que 25 metros pero más pequeña que 1000 metros golpeara la Tierra, causaría mucho daño.\n",
    "#velocidad mayor a 25 es peligrosa y genera advertencia\n",
    "#velocidad mayor o igual a 20 se puede ver rayo de luz\n",
    "\n",
    "ast_vel3=25\n",
    "ast_tam3=24\n",
    "\n",
    "if ast_vel3 > 25 and ast_tam3 > 25:\n",
    "    print (\" ASTEROIDE PELIGROSO EN TAMAÑO Y VELOCIDAD\")\n",
    "elif ast_vel3 >= 20 and ast_tam3 < 25:\n",
    "     print (\"Mira al cielo, es un rayo de luz, es un asteroide que no causara daño\")\n",
    "else:\n",
    "    print (\"Todo bien en el cielo\")"
   ]
  }
 ],
 "metadata": {
  "interpreter": {
   "hash": "3ad3e8a9cbcc8f0210332b17c8bfeb7bb9922686ed537b0a45f401d0bc4da0cb"
  },
  "kernelspec": {
   "display_name": "Python 3.9.6 64-bit",
   "language": "python",
   "name": "python3"
  },
  "language_info": {
   "codemirror_mode": {
    "name": "ipython",
    "version": 3
   },
   "file_extension": ".py",
   "mimetype": "text/x-python",
   "name": "python",
   "nbconvert_exporter": "python",
   "pygments_lexer": "ipython3",
   "version": "3.9.6"
  },
  "orig_nbformat": 4
 },
 "nbformat": 4,
 "nbformat_minor": 2
}
