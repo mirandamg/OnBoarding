{
 "cells": [
  {
   "cell_type": "markdown",
   "metadata": {},
   "source": [
    "# MODULO 5\n",
    "## KATA 5\n",
    "\n",
    "### Ejercicio 1"
   ]
  },
  {
   "cell_type": "code",
   "execution_count": 1,
   "metadata": {},
   "outputs": [
    {
     "name": "stdout",
     "output_type": "stream",
     "text": [
      "628949330\n",
      "390577533.93\n"
     ]
    }
   ],
   "source": [
    "# Crear variables para almacenar las dos distancias\n",
    "# ¡Asegúrate de quitar las comas!\n",
    "di1=149597870\n",
    "di2=778547200\n",
    "\n",
    "dist=(di2-di1)\n",
    "print(dist)\n",
    "distm=dist*0.621\n",
    "print(distm)"
   ]
  },
  {
   "cell_type": "markdown",
   "metadata": {},
   "source": [
    "### Ejercicio 2"
   ]
  },
  {
   "cell_type": "code",
   "execution_count": 2,
   "metadata": {},
   "outputs": [],
   "source": [
    "# Almacenar las entradas del usuario\n",
    "#Convertimos las cadenas a int automaticamente\n",
    "planeta1=int(input(\"Distancia al sol: \"))\n",
    "planeta2=int(input(\"Distancia al sol: \"))\n",
    "\n"
   ]
  },
  {
   "cell_type": "code",
   "execution_count": 3,
   "metadata": {},
   "outputs": [
    {
     "name": "stdout",
     "output_type": "stream",
     "text": [
      "50300000\n",
      "31236300.0\n"
     ]
    }
   ],
   "source": [
    "# Realizar el cálculo y determinar el valor absoluto\n",
    "distplan=(planeta2-planeta1)\n",
    "print(distplan)\n",
    "\n",
    "#Convertir de KM a Millas\n",
    "distplanm= (abs(distplan*0.621))\n",
    "print(distplanm)\n"
   ]
  }
 ],
 "metadata": {
  "interpreter": {
   "hash": "35e3271328f262b0805819c57c82edad1215316a51733b4677918d689bd5e782"
  },
  "kernelspec": {
   "display_name": "Python 3.9.6 ('amb1': venv)",
   "language": "python",
   "name": "python3"
  },
  "language_info": {
   "codemirror_mode": {
    "name": "ipython",
    "version": 3
   },
   "file_extension": ".py",
   "mimetype": "text/x-python",
   "name": "python",
   "nbconvert_exporter": "python",
   "pygments_lexer": "ipython3",
   "version": "3.9.6"
  },
  "orig_nbformat": 4
 },
 "nbformat": 4,
 "nbformat_minor": 2
}
